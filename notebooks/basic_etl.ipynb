{
 "cells": [
  {
   "cell_type": "code",
   "execution_count": 1,
   "id": "97ca649c",
   "metadata": {},
   "outputs": [],
   "source": [
    "import polars as pl\n",
    "from datetime import date"
   ]
  },
  {
   "cell_type": "code",
   "execution_count": 2,
   "id": "242522b3",
   "metadata": {},
   "outputs": [
    {
     "data": {
      "text/html": [
       "<div><style>\n",
       ".dataframe > thead > tr,\n",
       ".dataframe > tbody > tr {\n",
       "  text-align: right;\n",
       "  white-space: pre-wrap;\n",
       "}\n",
       "</style>\n",
       "<small>shape: (6, 4)</small><table border=\"1\" class=\"dataframe\"><thead><tr><th>pay_date</th><th>total</th><th>user_id</th><th>value_prop</th></tr><tr><td>date</td><td>f64</td><td>i64</td><td>str</td></tr></thead><tbody><tr><td>2020-11-09</td><td>70.98</td><td>50807</td><td>&quot;credits_consumer&quot;</td></tr><tr><td>2020-11-11</td><td>16.09</td><td>50807</td><td>&quot;credits_consumer&quot;</td></tr><tr><td>2020-11-11</td><td>107.31</td><td>50807</td><td>&quot;send_money&quot;</td></tr><tr><td>2020-11-15</td><td>37.53</td><td>50807</td><td>&quot;transport&quot;</td></tr><tr><td>2020-11-15</td><td>52.65</td><td>50807</td><td>&quot;cellphone_recharge&quot;</td></tr><tr><td>2020-11-26</td><td>21.96</td><td>50807</td><td>&quot;cellphone_recharge&quot;</td></tr></tbody></table></div>"
      ],
      "text/plain": [
       "shape: (6, 4)\n",
       "┌────────────┬────────┬─────────┬────────────────────┐\n",
       "│ pay_date   ┆ total  ┆ user_id ┆ value_prop         │\n",
       "│ ---        ┆ ---    ┆ ---     ┆ ---                │\n",
       "│ date       ┆ f64    ┆ i64     ┆ str                │\n",
       "╞════════════╪════════╪═════════╪════════════════════╡\n",
       "│ 2020-11-09 ┆ 70.98  ┆ 50807   ┆ credits_consumer   │\n",
       "│ 2020-11-11 ┆ 16.09  ┆ 50807   ┆ credits_consumer   │\n",
       "│ 2020-11-11 ┆ 107.31 ┆ 50807   ┆ send_money         │\n",
       "│ 2020-11-15 ┆ 37.53  ┆ 50807   ┆ transport          │\n",
       "│ 2020-11-15 ┆ 52.65  ┆ 50807   ┆ cellphone_recharge │\n",
       "│ 2020-11-26 ┆ 21.96  ┆ 50807   ┆ cellphone_recharge │\n",
       "└────────────┴────────┴─────────┴────────────────────┘"
      ]
     },
     "execution_count": 2,
     "metadata": {},
     "output_type": "execute_result"
    }
   ],
   "source": [
    "schema_pays = {\n",
    "    \"pay_date\": pl.Date,\n",
    "    \"total\": pl.Float64,\n",
    "    \"user_id\": pl.Int64,\n",
    "    \"value_prop\": pl.Utf8,\n",
    "}\n",
    "\n",
    "df_pays = pl.read_csv(\"../data/raw/pays.csv\", schema=schema_pays)\n",
    "\n",
    "df_pays.filter(pl.col(\"user_id\") == 50807).head(10)"
   ]
  },
  {
   "cell_type": "code",
   "execution_count": 3,
   "id": "ff344f4c",
   "metadata": {},
   "outputs": [
    {
     "data": {
      "text/html": [
       "<div><style>\n",
       ".dataframe > thead > tr,\n",
       ".dataframe > tbody > tr {\n",
       "  text-align: right;\n",
       "  white-space: pre-wrap;\n",
       "}\n",
       "</style>\n",
       "<small>shape: (50_859, 4)</small><table border=\"1\" class=\"dataframe\"><thead><tr><th>day</th><th>position</th><th>value_prop</th><th>user_id</th></tr><tr><td>date</td><td>i64</td><td>str</td><td>i64</td></tr></thead><tbody><tr><td>2020-11-01</td><td>0</td><td>&quot;cellphone_recharge&quot;</td><td>98702</td></tr><tr><td>2020-11-01</td><td>2</td><td>&quot;point&quot;</td><td>3708</td></tr><tr><td>2020-11-01</td><td>3</td><td>&quot;send_money&quot;</td><td>3708</td></tr><tr><td>2020-11-01</td><td>0</td><td>&quot;transport&quot;</td><td>93963</td></tr><tr><td>2020-11-01</td><td>1</td><td>&quot;cellphone_recharge&quot;</td><td>93963</td></tr><tr><td>&hellip;</td><td>&hellip;</td><td>&hellip;</td><td>&hellip;</td></tr><tr><td>2020-11-30</td><td>2</td><td>&quot;credits_consumer&quot;</td><td>64149</td></tr><tr><td>2020-11-30</td><td>1</td><td>&quot;point&quot;</td><td>3329</td></tr><tr><td>2020-11-30</td><td>1</td><td>&quot;cellphone_recharge&quot;</td><td>77012</td></tr><tr><td>2020-11-30</td><td>2</td><td>&quot;cellphone_recharge&quot;</td><td>14704</td></tr><tr><td>2020-11-30</td><td>2</td><td>&quot;transport&quot;</td><td>93605</td></tr></tbody></table></div>"
      ],
      "text/plain": [
       "shape: (50_859, 4)\n",
       "┌────────────┬──────────┬────────────────────┬─────────┐\n",
       "│ day        ┆ position ┆ value_prop         ┆ user_id │\n",
       "│ ---        ┆ ---      ┆ ---                ┆ ---     │\n",
       "│ date       ┆ i64      ┆ str                ┆ i64     │\n",
       "╞════════════╪══════════╪════════════════════╪═════════╡\n",
       "│ 2020-11-01 ┆ 0        ┆ cellphone_recharge ┆ 98702   │\n",
       "│ 2020-11-01 ┆ 2        ┆ point              ┆ 3708    │\n",
       "│ 2020-11-01 ┆ 3        ┆ send_money         ┆ 3708    │\n",
       "│ 2020-11-01 ┆ 0        ┆ transport          ┆ 93963   │\n",
       "│ 2020-11-01 ┆ 1        ┆ cellphone_recharge ┆ 93963   │\n",
       "│ …          ┆ …        ┆ …                  ┆ …       │\n",
       "│ 2020-11-30 ┆ 2        ┆ credits_consumer   ┆ 64149   │\n",
       "│ 2020-11-30 ┆ 1        ┆ point              ┆ 3329    │\n",
       "│ 2020-11-30 ┆ 1        ┆ cellphone_recharge ┆ 77012   │\n",
       "│ 2020-11-30 ┆ 2        ┆ cellphone_recharge ┆ 14704   │\n",
       "│ 2020-11-30 ┆ 2        ┆ transport          ┆ 93605   │\n",
       "└────────────┴──────────┴────────────────────┴─────────┘"
      ]
     },
     "execution_count": 3,
     "metadata": {},
     "output_type": "execute_result"
    }
   ],
   "source": [
    "schema_taps = {\n",
    "    \"day\": pl.Date,\n",
    "    \"event_data\": pl.Struct([\n",
    "        pl.Field(\"position\", pl.Int64),\n",
    "        pl.Field(\"value_prop\", pl.Utf8),\n",
    "    ]),\n",
    "    \"user_id\": pl.Int64,\n",
    "}\n",
    "\n",
    "df_taps = pl.read_ndjson(\"../data/raw/taps.json\", schema=schema_taps)\n",
    "df_taps = df_taps.unnest(\"event_data\")\n",
    "\n",
    "df_taps"
   ]
  },
  {
   "cell_type": "code",
   "execution_count": 4,
   "id": "3f688879",
   "metadata": {},
   "outputs": [
    {
     "data": {
      "text/html": [
       "<div><style>\n",
       ".dataframe > thead > tr,\n",
       ".dataframe > tbody > tr {\n",
       "  text-align: right;\n",
       "  white-space: pre-wrap;\n",
       "}\n",
       "</style>\n",
       "<small>shape: (508_617, 4)</small><table border=\"1\" class=\"dataframe\"><thead><tr><th>day</th><th>position</th><th>value_prop</th><th>user_id</th></tr><tr><td>date</td><td>i64</td><td>str</td><td>i64</td></tr></thead><tbody><tr><td>2020-11-01</td><td>0</td><td>&quot;cellphone_recharge&quot;</td><td>98702</td></tr><tr><td>2020-11-01</td><td>1</td><td>&quot;prepaid&quot;</td><td>98702</td></tr><tr><td>2020-11-01</td><td>0</td><td>&quot;prepaid&quot;</td><td>63252</td></tr><tr><td>2020-11-01</td><td>0</td><td>&quot;cellphone_recharge&quot;</td><td>24728</td></tr><tr><td>2020-11-01</td><td>1</td><td>&quot;link_cobro&quot;</td><td>24728</td></tr><tr><td>&hellip;</td><td>&hellip;</td><td>&hellip;</td><td>&hellip;</td></tr><tr><td>2020-11-30</td><td>0</td><td>&quot;send_money&quot;</td><td>50807</td></tr><tr><td>2020-11-30</td><td>1</td><td>&quot;prepaid&quot;</td><td>50807</td></tr><tr><td>2020-11-30</td><td>2</td><td>&quot;credits_consumer&quot;</td><td>50807</td></tr><tr><td>2020-11-30</td><td>0</td><td>&quot;point&quot;</td><td>1487</td></tr><tr><td>2020-11-30</td><td>0</td><td>&quot;send_money&quot;</td><td>9462</td></tr></tbody></table></div>"
      ],
      "text/plain": [
       "shape: (508_617, 4)\n",
       "┌────────────┬──────────┬────────────────────┬─────────┐\n",
       "│ day        ┆ position ┆ value_prop         ┆ user_id │\n",
       "│ ---        ┆ ---      ┆ ---                ┆ ---     │\n",
       "│ date       ┆ i64      ┆ str                ┆ i64     │\n",
       "╞════════════╪══════════╪════════════════════╪═════════╡\n",
       "│ 2020-11-01 ┆ 0        ┆ cellphone_recharge ┆ 98702   │\n",
       "│ 2020-11-01 ┆ 1        ┆ prepaid            ┆ 98702   │\n",
       "│ 2020-11-01 ┆ 0        ┆ prepaid            ┆ 63252   │\n",
       "│ 2020-11-01 ┆ 0        ┆ cellphone_recharge ┆ 24728   │\n",
       "│ 2020-11-01 ┆ 1        ┆ link_cobro         ┆ 24728   │\n",
       "│ …          ┆ …        ┆ …                  ┆ …       │\n",
       "│ 2020-11-30 ┆ 0        ┆ send_money         ┆ 50807   │\n",
       "│ 2020-11-30 ┆ 1        ┆ prepaid            ┆ 50807   │\n",
       "│ 2020-11-30 ┆ 2        ┆ credits_consumer   ┆ 50807   │\n",
       "│ 2020-11-30 ┆ 0        ┆ point              ┆ 1487    │\n",
       "│ 2020-11-30 ┆ 0        ┆ send_money         ┆ 9462    │\n",
       "└────────────┴──────────┴────────────────────┴─────────┘"
      ]
     },
     "execution_count": 4,
     "metadata": {},
     "output_type": "execute_result"
    }
   ],
   "source": [
    "schema_prints = {\n",
    "    \"day\": pl.Date,\n",
    "    \"event_data\": pl.Struct([\n",
    "        pl.Field(\"position\", pl.Int64),\n",
    "        pl.Field(\"value_prop\", pl.Utf8),\n",
    "    ]),\n",
    "    \"user_id\": pl.Int64,\n",
    "}\n",
    "\n",
    "df_prints = pl.read_ndjson(\"../data/raw/prints.json\", schema=schema_prints)\n",
    "df_prints = df_prints.unnest(\"event_data\")\n",
    "\n",
    "df_prints"
   ]
  },
  {
   "cell_type": "code",
   "execution_count": 5,
   "id": "740f93ca",
   "metadata": {},
   "outputs": [],
   "source": [
    "def get_last_week(df, column_name):\n",
    "    return (\n",
    "    df\n",
    "    .with_columns([\n",
    "        pl.col(column_name).dt.truncate(\"1w\").alias(\"week_start\")\n",
    "    ])\n",
    "    .filter(pl.col(\"week_start\") == pl.col(\"week_start\").max())\n",
    "    .drop(\"week_start\")\n",
    ")\n",
    "\n",
    "\n",
    "def get_last_weeks(df, column_name):\n",
    "    return (\n",
    "        df\n",
    "        .with_columns(pl.col(column_name).dt.truncate(\"1w\").alias(\"week_start\"))\n",
    "        .filter(\n",
    "            pl.col(\"week_start\").is_in(\n",
    "                pl.col(\"week_start\").unique().sort().tail(4).head(3).implode()\n",
    "            )\n",
    "        )\n",
    "        .drop(\"week_start\")\n",
    "    )"
   ]
  },
  {
   "cell_type": "code",
   "execution_count": 6,
   "id": "dd557370",
   "metadata": {},
   "outputs": [
    {
     "data": {
      "text/html": [
       "<div><style>\n",
       ".dataframe > thead > tr,\n",
       ".dataframe > tbody > tr {\n",
       "  text-align: right;\n",
       "  white-space: pre-wrap;\n",
       "}\n",
       "</style>\n",
       "<small>shape: (3, 4)</small><table border=\"1\" class=\"dataframe\"><thead><tr><th>day</th><th>position</th><th>value_prop</th><th>user_id</th></tr><tr><td>date</td><td>i64</td><td>str</td><td>i64</td></tr></thead><tbody><tr><td>2020-11-30</td><td>0</td><td>&quot;send_money&quot;</td><td>50807</td></tr><tr><td>2020-11-30</td><td>1</td><td>&quot;prepaid&quot;</td><td>50807</td></tr><tr><td>2020-11-30</td><td>2</td><td>&quot;credits_consumer&quot;</td><td>50807</td></tr></tbody></table></div>"
      ],
      "text/plain": [
       "shape: (3, 4)\n",
       "┌────────────┬──────────┬──────────────────┬─────────┐\n",
       "│ day        ┆ position ┆ value_prop       ┆ user_id │\n",
       "│ ---        ┆ ---      ┆ ---              ┆ ---     │\n",
       "│ date       ┆ i64      ┆ str              ┆ i64     │\n",
       "╞════════════╪══════════╪══════════════════╪═════════╡\n",
       "│ 2020-11-30 ┆ 0        ┆ send_money       ┆ 50807   │\n",
       "│ 2020-11-30 ┆ 1        ┆ prepaid          ┆ 50807   │\n",
       "│ 2020-11-30 ┆ 2        ┆ credits_consumer ┆ 50807   │\n",
       "└────────────┴──────────┴──────────────────┴─────────┘"
      ]
     },
     "execution_count": 6,
     "metadata": {},
     "output_type": "execute_result"
    }
   ],
   "source": [
    "df_final = get_last_week(df_prints, \"day\")\n",
    "\n",
    "df_final.filter(pl.col(\"user_id\") == 50807).head(10)"
   ]
  },
  {
   "cell_type": "code",
   "execution_count": 7,
   "id": "3f2dd195",
   "metadata": {},
   "outputs": [
    {
     "data": {
      "text/html": [
       "<div><style>\n",
       ".dataframe > thead > tr,\n",
       ".dataframe > tbody > tr {\n",
       "  text-align: right;\n",
       "  white-space: pre-wrap;\n",
       "}\n",
       "</style>\n",
       "<small>shape: (3, 5)</small><table border=\"1\" class=\"dataframe\"><thead><tr><th>day</th><th>position</th><th>value_prop</th><th>user_id</th><th>cantidad_vistas</th></tr><tr><td>date</td><td>i64</td><td>str</td><td>i64</td><td>i64</td></tr></thead><tbody><tr><td>2020-11-30</td><td>0</td><td>&quot;send_money&quot;</td><td>50807</td><td>0</td></tr><tr><td>2020-11-30</td><td>1</td><td>&quot;prepaid&quot;</td><td>50807</td><td>1</td></tr><tr><td>2020-11-30</td><td>2</td><td>&quot;credits_consumer&quot;</td><td>50807</td><td>2</td></tr></tbody></table></div>"
      ],
      "text/plain": [
       "shape: (3, 5)\n",
       "┌────────────┬──────────┬──────────────────┬─────────┬─────────────────┐\n",
       "│ day        ┆ position ┆ value_prop       ┆ user_id ┆ cantidad_vistas │\n",
       "│ ---        ┆ ---      ┆ ---              ┆ ---     ┆ ---             │\n",
       "│ date       ┆ i64      ┆ str              ┆ i64     ┆ i64             │\n",
       "╞════════════╪══════════╪══════════════════╪═════════╪═════════════════╡\n",
       "│ 2020-11-30 ┆ 0        ┆ send_money       ┆ 50807   ┆ 0               │\n",
       "│ 2020-11-30 ┆ 1        ┆ prepaid          ┆ 50807   ┆ 1               │\n",
       "│ 2020-11-30 ┆ 2        ┆ credits_consumer ┆ 50807   ┆ 2               │\n",
       "└────────────┴──────────┴──────────────────┴─────────┴─────────────────┘"
      ]
     },
     "execution_count": 7,
     "metadata": {},
     "output_type": "execute_result"
    }
   ],
   "source": [
    "## Cantidad de veces que vio\n",
    "\n",
    "counts = (\n",
    "    get_last_weeks(df_prints, \"day\")\n",
    "    .group_by([\"user_id\", \"value_prop\"])\n",
    "    .agg(pl.len().cast(pl.Int64).alias(\"cantidad_vistas\"))\n",
    ")\n",
    "\n",
    "out = df_final.join(\n",
    "    counts,\n",
    "    on=[\"user_id\", \"value_prop\"],\n",
    "    how=\"left\",\n",
    ").with_columns(pl.col(\"cantidad_vistas\").fill_null(0))\n",
    "\n",
    "out.filter(pl.col(\"user_id\") == 50807).head(10)"
   ]
  },
  {
   "cell_type": "code",
   "execution_count": 8,
   "id": "f960e51d",
   "metadata": {},
   "outputs": [
    {
     "data": {
      "text/html": [
       "<div><style>\n",
       ".dataframe > thead > tr,\n",
       ".dataframe > tbody > tr {\n",
       "  text-align: right;\n",
       "  white-space: pre-wrap;\n",
       "}\n",
       "</style>\n",
       "<small>shape: (3, 7)</small><table border=\"1\" class=\"dataframe\"><thead><tr><th>day</th><th>position</th><th>value_prop</th><th>user_id</th><th>cantidad_vistas</th><th>cantidad_taps</th><th>hizo_click</th></tr><tr><td>date</td><td>i64</td><td>str</td><td>i64</td><td>i64</td><td>i64</td><td>bool</td></tr></thead><tbody><tr><td>2020-11-30</td><td>0</td><td>&quot;send_money&quot;</td><td>50807</td><td>0</td><td>0</td><td>false</td></tr><tr><td>2020-11-30</td><td>1</td><td>&quot;prepaid&quot;</td><td>50807</td><td>1</td><td>0</td><td>false</td></tr><tr><td>2020-11-30</td><td>2</td><td>&quot;credits_consumer&quot;</td><td>50807</td><td>2</td><td>0</td><td>false</td></tr></tbody></table></div>"
      ],
      "text/plain": [
       "shape: (3, 7)\n",
       "┌────────────┬──────────┬─────────────────┬─────────┬─────────────────┬───────────────┬────────────┐\n",
       "│ day        ┆ position ┆ value_prop      ┆ user_id ┆ cantidad_vistas ┆ cantidad_taps ┆ hizo_click │\n",
       "│ ---        ┆ ---      ┆ ---             ┆ ---     ┆ ---             ┆ ---           ┆ ---        │\n",
       "│ date       ┆ i64      ┆ str             ┆ i64     ┆ i64             ┆ i64           ┆ bool       │\n",
       "╞════════════╪══════════╪═════════════════╪═════════╪═════════════════╪═══════════════╪════════════╡\n",
       "│ 2020-11-30 ┆ 0        ┆ send_money      ┆ 50807   ┆ 0               ┆ 0             ┆ false      │\n",
       "│ 2020-11-30 ┆ 1        ┆ prepaid         ┆ 50807   ┆ 1               ┆ 0             ┆ false      │\n",
       "│ 2020-11-30 ┆ 2        ┆ credits_consume ┆ 50807   ┆ 2               ┆ 0             ┆ false      │\n",
       "│            ┆          ┆ r               ┆         ┆                 ┆               ┆            │\n",
       "└────────────┴──────────┴─────────────────┴─────────┴─────────────────┴───────────────┴────────────┘"
      ]
     },
     "execution_count": 8,
     "metadata": {},
     "output_type": "execute_result"
    }
   ],
   "source": [
    "## Cantidad de veces que clickeo y si hizo click\n",
    "\n",
    "counts = (\n",
    "    get_last_weeks(df_taps, \"day\")\n",
    "    .group_by([\"user_id\", \"value_prop\"])\n",
    "    .agg(pl.len().cast(pl.Int64).alias(\"cantidad_taps\"))\n",
    ")\n",
    "\n",
    "\n",
    "out = (\n",
    "    out\n",
    "    .join(counts, on=[\"user_id\", \"value_prop\"], how=\"left\")\n",
    "    .with_columns(\n",
    "        pl.col(\"cantidad_taps\").fill_null(0).cast(pl.Int64).alias(\"cantidad_taps\")\n",
    "    )\n",
    "    .with_columns(\n",
    "        (pl.col(\"cantidad_taps\") > 0).alias(\"hizo_click\")\n",
    "    )\n",
    ")\n",
    "\n",
    "out.filter(pl.col(\"user_id\") == 50807).head(10)"
   ]
  },
  {
   "cell_type": "code",
   "execution_count": 9,
   "id": "1f87241d",
   "metadata": {},
   "outputs": [
    {
     "data": {
      "text/html": [
       "<div><style>\n",
       ".dataframe > thead > tr,\n",
       ".dataframe > tbody > tr {\n",
       "  text-align: right;\n",
       "  white-space: pre-wrap;\n",
       "}\n",
       "</style>\n",
       "<small>shape: (3, 8)</small><table border=\"1\" class=\"dataframe\"><thead><tr><th>day</th><th>position</th><th>value_prop</th><th>user_id</th><th>cantidad_vistas</th><th>cantidad_taps</th><th>hizo_click</th><th>cantidad_pagos</th></tr><tr><td>date</td><td>i64</td><td>str</td><td>i64</td><td>i64</td><td>i64</td><td>bool</td><td>i64</td></tr></thead><tbody><tr><td>2020-11-30</td><td>0</td><td>&quot;send_money&quot;</td><td>50807</td><td>0</td><td>0</td><td>false</td><td>1</td></tr><tr><td>2020-11-30</td><td>1</td><td>&quot;prepaid&quot;</td><td>50807</td><td>1</td><td>0</td><td>false</td><td>0</td></tr><tr><td>2020-11-30</td><td>2</td><td>&quot;credits_consumer&quot;</td><td>50807</td><td>2</td><td>0</td><td>false</td><td>2</td></tr></tbody></table></div>"
      ],
      "text/plain": [
       "shape: (3, 8)\n",
       "┌────────────┬──────────┬────────────┬─────────┬────────────┬────────────┬────────────┬────────────┐\n",
       "│ day        ┆ position ┆ value_prop ┆ user_id ┆ cantidad_v ┆ cantidad_t ┆ hizo_click ┆ cantidad_p │\n",
       "│ ---        ┆ ---      ┆ ---        ┆ ---     ┆ istas      ┆ aps        ┆ ---        ┆ agos       │\n",
       "│ date       ┆ i64      ┆ str        ┆ i64     ┆ ---        ┆ ---        ┆ bool       ┆ ---        │\n",
       "│            ┆          ┆            ┆         ┆ i64        ┆ i64        ┆            ┆ i64        │\n",
       "╞════════════╪══════════╪════════════╪═════════╪════════════╪════════════╪════════════╪════════════╡\n",
       "│ 2020-11-30 ┆ 0        ┆ send_money ┆ 50807   ┆ 0          ┆ 0          ┆ false      ┆ 1          │\n",
       "│ 2020-11-30 ┆ 1        ┆ prepaid    ┆ 50807   ┆ 1          ┆ 0          ┆ false      ┆ 0          │\n",
       "│ 2020-11-30 ┆ 2        ┆ credits_co ┆ 50807   ┆ 2          ┆ 0          ┆ false      ┆ 2          │\n",
       "│            ┆          ┆ nsumer     ┆         ┆            ┆            ┆            ┆            │\n",
       "└────────────┴──────────┴────────────┴─────────┴────────────┴────────────┴────────────┴────────────┘"
      ]
     },
     "execution_count": 9,
     "metadata": {},
     "output_type": "execute_result"
    }
   ],
   "source": [
    "## Cantidad de veces que pago\n",
    "\n",
    "counts = (\n",
    "    get_last_weeks(df_pays, \"pay_date\")\n",
    "    .group_by([\"user_id\", \"value_prop\"])\n",
    "    .agg(pl.len().cast(pl.Int64).alias(\"cantidad_pagos\"))\n",
    ")\n",
    "\n",
    "out = out.join(\n",
    "    counts,\n",
    "    on=[\"user_id\", \"value_prop\"],\n",
    "    how=\"left\",\n",
    ").with_columns(pl.col(\"cantidad_pagos\").fill_null(0))\n",
    "\n",
    "out.filter(pl.col(\"user_id\") == 50807).head(10)"
   ]
  },
  {
   "cell_type": "code",
   "execution_count": 10,
   "id": "9bcf6294",
   "metadata": {},
   "outputs": [
    {
     "data": {
      "text/html": [
       "<div><style>\n",
       ".dataframe > thead > tr,\n",
       ".dataframe > tbody > tr {\n",
       "  text-align: right;\n",
       "  white-space: pre-wrap;\n",
       "}\n",
       "</style>\n",
       "<small>shape: (3, 9)</small><table border=\"1\" class=\"dataframe\"><thead><tr><th>day</th><th>position</th><th>value_prop</th><th>user_id</th><th>cantidad_vistas</th><th>cantidad_taps</th><th>hizo_click</th><th>cantidad_pagos</th><th>total_pagos</th></tr><tr><td>date</td><td>i64</td><td>str</td><td>i64</td><td>i64</td><td>i64</td><td>bool</td><td>i64</td><td>i64</td></tr></thead><tbody><tr><td>2020-11-30</td><td>0</td><td>&quot;send_money&quot;</td><td>50807</td><td>0</td><td>0</td><td>false</td><td>1</td><td>107</td></tr><tr><td>2020-11-30</td><td>1</td><td>&quot;prepaid&quot;</td><td>50807</td><td>1</td><td>0</td><td>false</td><td>0</td><td>0</td></tr><tr><td>2020-11-30</td><td>2</td><td>&quot;credits_consumer&quot;</td><td>50807</td><td>2</td><td>0</td><td>false</td><td>2</td><td>87</td></tr></tbody></table></div>"
      ],
      "text/plain": [
       "shape: (3, 9)\n",
       "┌────────────┬──────────┬────────────┬─────────┬───┬───────────┬───────────┬───────────┬───────────┐\n",
       "│ day        ┆ position ┆ value_prop ┆ user_id ┆ … ┆ cantidad_ ┆ hizo_clic ┆ cantidad_ ┆ total_pag │\n",
       "│ ---        ┆ ---      ┆ ---        ┆ ---     ┆   ┆ taps      ┆ k         ┆ pagos     ┆ os        │\n",
       "│ date       ┆ i64      ┆ str        ┆ i64     ┆   ┆ ---       ┆ ---       ┆ ---       ┆ ---       │\n",
       "│            ┆          ┆            ┆         ┆   ┆ i64       ┆ bool      ┆ i64       ┆ i64       │\n",
       "╞════════════╪══════════╪════════════╪═════════╪═══╪═══════════╪═══════════╪═══════════╪═══════════╡\n",
       "│ 2020-11-30 ┆ 0        ┆ send_money ┆ 50807   ┆ … ┆ 0         ┆ false     ┆ 1         ┆ 107       │\n",
       "│ 2020-11-30 ┆ 1        ┆ prepaid    ┆ 50807   ┆ … ┆ 0         ┆ false     ┆ 0         ┆ 0         │\n",
       "│ 2020-11-30 ┆ 2        ┆ credits_co ┆ 50807   ┆ … ┆ 0         ┆ false     ┆ 2         ┆ 87        │\n",
       "│            ┆          ┆ nsumer     ┆         ┆   ┆           ┆           ┆           ┆           │\n",
       "└────────────┴──────────┴────────────┴─────────┴───┴───────────┴───────────┴───────────┴───────────┘"
      ]
     },
     "execution_count": 10,
     "metadata": {},
     "output_type": "execute_result"
    }
   ],
   "source": [
    "## Cantidad de veces que pago\n",
    "\n",
    "counts = (\n",
    "    get_last_weeks(df_pays, \"pay_date\")\n",
    "    .group_by([\"user_id\", \"value_prop\"])\n",
    "    .agg(pl.sum(\"total\").cast(pl.Int64).alias(\"total_pagos\"))\n",
    ")\n",
    "\n",
    "out = out.join(\n",
    "    counts,\n",
    "    on=[\"user_id\", \"value_prop\"],\n",
    "    how=\"left\",\n",
    ").with_columns(pl.col(\"total_pagos\").fill_null(0))\n",
    "\n",
    "out.filter(pl.col(\"user_id\") == 50807).head(10)"
   ]
  },
  {
   "cell_type": "code",
   "execution_count": 11,
   "id": "ea78230f",
   "metadata": {},
   "outputs": [],
   "source": [
    "today = date.today()\n",
    "\n",
    "out.write_csv(f\"../data/out/{today}.csv\")\n",
    "out.write_parquet(f\"../data/out/{today}.parquet\")"
   ]
  }
 ],
 "metadata": {
  "kernelspec": {
   "display_name": "data",
   "language": "python",
   "name": "python3"
  },
  "language_info": {
   "codemirror_mode": {
    "name": "ipython",
    "version": 3
   },
   "file_extension": ".py",
   "mimetype": "text/x-python",
   "name": "python",
   "nbconvert_exporter": "python",
   "pygments_lexer": "ipython3",
   "version": "3.13.5"
  }
 },
 "nbformat": 4,
 "nbformat_minor": 5
}
